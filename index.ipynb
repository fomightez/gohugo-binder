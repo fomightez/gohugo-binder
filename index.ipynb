{
 "cells": [
  {
   "cell_type": "markdown",
   "metadata": {},
   "source": [
    "# Hugo\n",
    "## Hugo in your browser\n",
    "\n",
    "Welcome. Work through [the Quick Start](https://gohugo.io/getting-started/quick-start/) as a demo. (Some extras from [here](https://www.digitalocean.com/community/tutorials/how-to-install-and-use-hugo-a-static-site-generator-on-ubuntu-14-04) have been added.) \n",
    "\n",
    "Note for running in the notebook, the cells running the shell commands have the first line bing `%%bash`. This is an example of cell magic, see [here](https://ipython.readthedocs.io/en/stable/interactive/magics.html), and in this case runs the contents on the command line. Alternatively, we could have pre-appended the shell comamnds with an exclamation mark.\n",
    "\n",
    "\n",
    "## Quick start\n",
    "\n",
    "#### Verify installed."
   ]
  },
  {
   "cell_type": "code",
   "execution_count": null,
   "metadata": {},
   "outputs": [],
   "source": [
    "%%bash\n",
    "hugo version"
   ]
  },
  {
   "cell_type": "markdown",
   "metadata": {},
   "source": [
    "#### Create a new site"
   ]
  },
  {
   "cell_type": "code",
   "execution_count": null,
   "metadata": {
    "scrolled": true
   },
   "outputs": [],
   "source": [
    "%%bash\n",
    "hugo new site quickstart"
   ]
  },
  {
   "cell_type": "markdown",
   "metadata": {},
   "source": [
    "#### Add a theme\n",
    "\n",
    "We'll use Jupyter's line magic `%cd` command to change to the `quickstart` directory for this first. The `quickstart` directory created by the `new site` command is to become 'our working directory' for subsequent cells in this notebook.\n",
    "\n",
    "Note that you use Jupyter's `%cd` command when you want to change working directories for more than one cell. If we simply used the typical `cd` to switch directories a part of commands listed with `%% bash` cell magic, we'd only be specifying to run the commands following the `cd` command in that notebook cell in the new directory. This is because although the `%% bash` cell magic says to run that cell as if it was on the command line, the process in which it gets run is ephemeral, and so upon running the last line in that cell, the running process is destroyed by the Jupyter notebook machinery. The next cell that would be run has no memory of that change of directory command."
   ]
  },
  {
   "cell_type": "code",
   "execution_count": null,
   "metadata": {},
   "outputs": [],
   "source": [
    "%cd quickstart"
   ]
  },
  {
   "cell_type": "code",
   "execution_count": null,
   "metadata": {},
   "outputs": [],
   "source": [
    "%%bash\n",
    "git init\n",
    "git submodule add https://github.com/budparr/gohugo-theme-ananke.git themes/ananke"
   ]
  },
  {
   "cell_type": "markdown",
   "metadata": {},
   "source": [
    "Add the theme to the site configuration."
   ]
  },
  {
   "cell_type": "code",
   "execution_count": null,
   "metadata": {},
   "outputs": [],
   "source": [
    "%%bash\n",
    "echo 'theme = \"ananke\"' >> config.toml"
   ]
  },
  {
   "cell_type": "markdown",
   "metadata": {},
   "source": [
    "#### Install the Pygments Syntax Highlighter\n",
    "\n",
    "This will already be installed if you are using this site via a `launch binder` button and so when the next cell is run, we'll see `Requirement already satisfied`."
   ]
  },
  {
   "cell_type": "code",
   "execution_count": null,
   "metadata": {},
   "outputs": [],
   "source": [
    "%%bash\n",
    "pip install Pygments"
   ]
  },
  {
   "cell_type": "markdown",
   "metadata": {},
   "source": [
    "We can view the available styles of code highlighting."
   ]
  },
  {
   "cell_type": "code",
   "execution_count": null,
   "metadata": {},
   "outputs": [],
   "source": [
    "from pygments.styles import get_all_styles\n",
    "styles = list(get_all_styles()) #based on https://pygments.org/docs/styles/#getting-a-list-of-available-styles\n",
    "styles"
   ]
  },
  {
   "cell_type": "markdown",
   "metadata": {},
   "source": [
    "You can try out styles [here](https://pygments.org/demo/)."
   ]
  },
  {
   "cell_type": "markdown",
   "metadata": {},
   "source": [
    "#### Add some content"
   ]
  },
  {
   "cell_type": "code",
   "execution_count": null,
   "metadata": {},
   "outputs": [],
   "source": [
    "%%bash\n",
    "hugo new posts/my-first-post.md"
   ]
  },
  {
   "cell_type": "markdown",
   "metadata": {},
   "source": [
    "We can verify that happened by running the next cell to see the content of the created post."
   ]
  },
  {
   "cell_type": "code",
   "execution_count": null,
   "metadata": {},
   "outputs": [],
   "source": [
    "%%bash\n",
    "cat /home/jovyan/quickstart/content/posts/my-first-post.md "
   ]
  },
  {
   "cell_type": "markdown",
   "metadata": {},
   "source": [
    "#### Add some more content"
   ]
  },
  {
   "cell_type": "code",
   "execution_count": null,
   "metadata": {},
   "outputs": [],
   "source": [
    "%%bash\n",
    "hugo new about.md"
   ]
  },
  {
   "cell_type": "code",
   "execution_count": null,
   "metadata": {},
   "outputs": [],
   "source": [
    "!hugo server -D"
   ]
  },
  {
   "cell_type": "markdown",
   "metadata": {},
   "source": [
    "### Click this following link to open: \n",
    "\n",
    "[the running server](../proxy/1313)"
   ]
  },
  {
   "cell_type": "markdown",
   "metadata": {},
   "source": [
    "**Note the rendering is very basic because it doesn't render css right now.** But it shows the file has been made\n",
    "\n",
    "Stop the cell above from continuing to run and then try below.\n",
    "\n",
    "### Make static content\n",
    "\n",
    "In order to get the new pages to render as static pages, update the header of the post to say `draft: false`."
   ]
  },
  {
   "cell_type": "code",
   "execution_count": null,
   "metadata": {},
   "outputs": [],
   "source": [
    "!rm -rf public\n",
    "!sed -i 's/draft: true/draft: false/g' content/posts/my-first-post.md \n",
    "!sed -i 's/draft: true/draft: false/g' content/about.md\n",
    "!hugo"
   ]
  },
  {
   "cell_type": "markdown",
   "metadata": {},
   "source": [
    "For the next few cells, the `fomightez-gohugo-binder-a64c7ys7` part of the URL needs to be changed to to match the corresponding part in the URL of your browser."
   ]
  },
  {
   "cell_type": "code",
   "execution_count": null,
   "metadata": {},
   "outputs": [],
   "source": [
    "import IPython\n",
    "url = \"quickstart/public/index.html\"\n",
    "iframe = '<iframe src=' + url + ' width=700 height=350></iframe>'\n",
    "IPython.display.HTML(iframe)"
   ]
  },
  {
   "cell_type": "code",
   "execution_count": null,
   "metadata": {},
   "outputs": [],
   "source": [
    "import IPython\n",
    "url = \"quickstart/public/posts/my-first-post/index.html\"\n",
    "iframe = '<iframe src=' + url + ' width=700 height=350></iframe>'\n",
    "IPython.display.HTML(iframe)"
   ]
  },
  {
   "cell_type": "code",
   "execution_count": null,
   "metadata": {},
   "outputs": [],
   "source": [
    "import IPython\n",
    "url = \"quickstart/public/about/index.html\"\n",
    "iframe = '<iframe src=' + url + ' width=700 height=350></iframe>'\n",
    "IPython.display.HTML(iframe)"
   ]
  },
  {
   "cell_type": "markdown",
   "metadata": {},
   "source": [
    "Note that result looks better than what the following gives:\n",
    "  \n",
    "```python\n",
    "import IPython\n",
    "IPython.display.HTML(filename='public/posts/my-first-post/index.html')\n",
    "```\n",
    "But above results in a similar rudimentary look that shows the file has been at least made.\n",
    "\n",
    "The following also gives rudimentary look but without the border:\n",
    "\n",
    "```python\n",
    "#based on https://forum.humanbrainproject.eu/t/problem-with-iframe-in-jupyter-notebook/528/2\n",
    "import os\n",
    "report_path = \"https://hub.gke.mybinder.org/user/fomightez-gohugo-binder-pm3vikv5/view/quickstart/public/posts/my-first-post/index.html\"\n",
    "rel_report_path = os.path.relpath(report_path)\n",
    "rel_report_path = report_path\n",
    "from IPython.display import IFrame    \n",
    "display(IFrame(rel_report_path, width=900, height=650))\n",
    "```"
   ]
  },
  {
   "cell_type": "code",
   "execution_count": null,
   "metadata": {},
   "outputs": [],
   "source": [
    "import os\n",
    "report_path = \"quickstart/public/posts/my-first-post/index.html\"\n",
    "rel_report_path = os.path.relpath(report_path)\n",
    "rel_report_path = report_path\n",
    "from IPython.display import IFrame    \n",
    "display(IFrame(rel_report_path, width=900, height=650))"
   ]
  },
  {
   "cell_type": "code",
   "execution_count": null,
   "metadata": {},
   "outputs": [],
   "source": [
    "import time\n",
    "\n",
    "def executeSomething():\n",
    "    #code here\n",
    "    print ('.')\n",
    "    time.sleep(480) #60 seconds times 8 minutes\n",
    "\n",
    "while True:\n",
    "    executeSomething()"
   ]
  }
 ],
 "metadata": {
  "kernelspec": {
   "display_name": "Python 3",
   "language": "python",
   "name": "python3"
  },
  "language_info": {
   "codemirror_mode": {
    "name": "ipython",
    "version": 3
   },
   "file_extension": ".py",
   "mimetype": "text/x-python",
   "name": "python",
   "nbconvert_exporter": "python",
   "pygments_lexer": "ipython3",
   "version": "3.7.6"
  }
 },
 "nbformat": 4,
 "nbformat_minor": 4
}
